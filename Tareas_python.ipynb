{
  "nbformat": 4,
  "nbformat_minor": 0,
  "metadata": {
    "colab": {
      "provenance": [],
      "authorship_tag": "ABX9TyMEk5ZcUq5XJ2Wr6gm6m0JU",
      "include_colab_link": true
    },
    "kernelspec": {
      "name": "python3",
      "display_name": "Python 3"
    },
    "language_info": {
      "name": "python"
    }
  },
  "cells": [
    {
      "cell_type": "markdown",
      "metadata": {
        "id": "view-in-github",
        "colab_type": "text"
      },
      "source": [
        "<a href=\"https://colab.research.google.com/github/manferjam0508/pythonbootcamp/blob/main/Tareas_python.ipynb\" target=\"_parent\"><img src=\"https://colab.research.google.com/assets/colab-badge.svg\" alt=\"Open In Colab\"/></a>"
      ]
    },
    {
      "cell_type": "markdown",
      "source": [
        "##VARIANTES CON LA SENTENCIA print##"
      ],
      "metadata": {
        "id": "Oe72h8vAPyDw"
      }
    },
    {
      "cell_type": "markdown",
      "source": [
        "### print sep ###\n",
        "\n",
        "Se usa para imprimir multiples valores separados por comas, en el parámetro sep se puede variar los valores como en este ejemplo:\n"
      ],
      "metadata": {
        "id": "l7GglyevP6lW"
      }
    },
    {
      "cell_type": "code",
      "source": [
        "print (\"Tengo una  \" , \"quieres una  \", \"?\", sep=\"Manzana\" )"
      ],
      "metadata": {
        "colab": {
          "base_uri": "https://localhost:8080/"
        },
        "id": "pEvF7HvDQTiO",
        "outputId": "8ac6cfb7-ae67-4999-e2a9-176bb159d214"
      },
      "execution_count": null,
      "outputs": [
        {
          "output_type": "stream",
          "name": "stdout",
          "text": [
            "Tengo una  Manzanaquieres una  Manzana?\n"
          ]
        }
      ]
    },
    {
      "cell_type": "markdown",
      "source": [
        "Funciona con variables int y float sin necesidad de convertirlas a string"
      ],
      "metadata": {
        "id": "nERZJMfeQ_A9"
      }
    },
    {
      "cell_type": "code",
      "source": [
        "print(\"fresa\",\"platano\",\"naranja\",\"manzana\",\"pera\",\"uva\",\"sandia\", sep=\"-\")\n",
        "print(\"Hola tengo\", 20, \"años\", \"mido\", 1.77,\"mts\", sep=\" \")"
      ],
      "metadata": {
        "colab": {
          "base_uri": "https://localhost:8080/"
        },
        "id": "JiI11h3Bbuvs",
        "outputId": "a24f24de-511d-4986-828f-c2032769208c"
      },
      "execution_count": null,
      "outputs": [
        {
          "output_type": "stream",
          "name": "stdout",
          "text": [
            "fresa-platano-naranja-manzana-pera-uva-sandia\n",
            "Hola tengo 20 años mido 1.77 mts\n"
          ]
        }
      ]
    },
    {
      "cell_type": "markdown",
      "source": [
        "### print end ###\n",
        "\n",
        "Con este parámetro, ayuda a cambiar la linea del final del comando print, aunque por defecto se usa \\n, pero se puede modificar por otro caracter sin bajar a la siguiente linea:\n",
        "\n"
      ],
      "metadata": {
        "id": "eaS-YwYwS3NO"
      }
    },
    {
      "cell_type": "code",
      "source": [
        "print (\"hola\", end = \" @ \")\n",
        "print (\"mundo\")"
      ],
      "metadata": {
        "colab": {
          "base_uri": "https://localhost:8080/"
        },
        "id": "U4fYcCLHTTZb",
        "outputId": "31bc6f42-ffca-46e4-83ae-9c4605cadfa0"
      },
      "execution_count": null,
      "outputs": [
        {
          "output_type": "stream",
          "name": "stdout",
          "text": [
            "hola @ mundo\n"
          ]
        }
      ]
    },
    {
      "cell_type": "code",
      "source": [
        "print(\"hola\")\n",
        "print(\"mundo\")\n",
        "\n",
        "print(\"\\nHola\", end=\" \")\n",
        "print(\"Mundo\")\n",
        "\n",
        "print(\"\\nHola\", end=\":P \")\n",
        "print(\"Mundo\")"
      ],
      "metadata": {
        "colab": {
          "base_uri": "https://localhost:8080/"
        },
        "id": "y0de66f2dlBE",
        "outputId": "98c1faa5-c382-4a61-d78a-11d83b8caf41"
      },
      "execution_count": null,
      "outputs": [
        {
          "output_type": "stream",
          "name": "stdout",
          "text": [
            "hola\n",
            "mundo\n",
            "\n",
            "Hola Mundo\n",
            "\n",
            "Hola:P Mundo\n"
          ]
        }
      ]
    },
    {
      "cell_type": "markdown",
      "source": [
        "### print flush ###\n",
        "\n",
        "Este parámetro es recomendable de usarlo junto con el parámetro end, debido a que si se usa no se vacía el buffer, por ello si flush maneja valores booleanos, solo se completa en un tiempo de espera si flush= true, con esto el comando print se actualizará al final:\n",
        "\n"
      ],
      "metadata": {
        "id": "2HgW4e5eUjs9"
      }
    },
    {
      "cell_type": "code",
      "source": [
        "import time\n",
        "print(\"Numeros:  \")\n",
        "for i in range(10):\n",
        "  time.sleep(1.5)\n",
        "  print(i, end=\" \", flush=True)"
      ],
      "metadata": {
        "colab": {
          "base_uri": "https://localhost:8080/"
        },
        "id": "RXkWaEHqVKlr",
        "outputId": "acb16cca-f3ac-4f67-bdec-0f6a5f1cdedb"
      },
      "execution_count": null,
      "outputs": [
        {
          "output_type": "stream",
          "name": "stdout",
          "text": [
            "Numeros:  \n",
            "0 1 2 3 4 5 6 7 8 9 "
          ]
        }
      ]
    },
    {
      "cell_type": "code",
      "source": [
        "import time\n",
        "\n",
        "print(\"Numeros: \")\n",
        "for i in range(8):\n",
        "  time.sleep(0.5)\n",
        "  print(i, end=\" \", flush=True)"
      ],
      "metadata": {
        "colab": {
          "base_uri": "https://localhost:8080/"
        },
        "id": "-qN4LGlheX2U",
        "outputId": "e6a28947-ae70-4a25-ec18-0da7c71d529b"
      },
      "execution_count": null,
      "outputs": [
        {
          "output_type": "stream",
          "name": "stdout",
          "text": [
            "Numeros: \n",
            "0 1 2 3 4 5 6 7 "
          ]
        }
      ]
    },
    {
      "cell_type": "code",
      "source": [
        "import time\n",
        "\n",
        "print(\"Numeros: \")\n",
        "for i in range(8):\n",
        "  time.sleep(0.5)\n",
        "  print(i, end=\" \", flush=False)"
      ],
      "metadata": {
        "colab": {
          "base_uri": "https://localhost:8080/"
        },
        "id": "3yPhEdwceueb",
        "outputId": "6b3c955d-5133-47ac-a825-048deb0781c4"
      },
      "execution_count": null,
      "outputs": [
        {
          "output_type": "stream",
          "name": "stdout",
          "text": [
            "Numeros: \n",
            "0 1 2 3 4 5 6 7 "
          ]
        }
      ]
    },
    {
      "cell_type": "markdown",
      "source": [
        "##CASTEO O CASTING##\n",
        "\n",
        "Es un proceso del cambio de valor de un tipo de dato a otro; de la cual puede ser implícito cuando el lenguaje realiza dicha conversión o tambien puede ser explícito de acuerdo a los parámetros del programador; no todas las veces los casteos explícitos se pueden realizar cantidades ilimitadas de conversiones."
      ],
      "metadata": {
        "id": "ZFZW6XFJSv_d"
      }
    },
    {
      "cell_type": "code",
      "source": [
        "x = 25.49\n",
        "print (float(x))\n",
        "print (int(x))\n",
        "print (str(x))"
      ],
      "metadata": {
        "colab": {
          "base_uri": "https://localhost:8080/"
        },
        "id": "Jbn8TDQyTN6j",
        "outputId": "1c0fa211-1a5b-4fb9-e84e-875f68b03506"
      },
      "execution_count": null,
      "outputs": [
        {
          "output_type": "stream",
          "name": "stdout",
          "text": [
            "25.49\n",
            "25\n",
            "25.49\n"
          ]
        }
      ]
    },
    {
      "cell_type": "markdown",
      "source": [],
      "metadata": {
        "id": "lLd84kIiSvht"
      }
    },
    {
      "cell_type": "code",
      "source": [
        "val = 1\n",
        "print (bool(val))\n",
        "print (int(val))\n",
        "print (float(val))"
      ],
      "metadata": {
        "colab": {
          "base_uri": "https://localhost:8080/"
        },
        "id": "VH_3gDovmR5a",
        "outputId": "bdbe59a5-792c-4e49-8e81-105e0dce50e8"
      },
      "execution_count": null,
      "outputs": [
        {
          "output_type": "stream",
          "name": "stdout",
          "text": [
            "True\n",
            "1\n",
            "1.0\n"
          ]
        }
      ]
    },
    {
      "cell_type": "markdown",
      "source": [
        "#PRUEBAS AGOSTO 8 DE 2023#\n",
        "##STRINGS Y MANEJO DE SLICES##\n",
        "\n",
        "###MANIPULACION DE SLICES###\n",
        "\n",
        "Esta manipulaciones se usan mas para variables de tipos string, listas y tuplas; en el caso del tipo string, se manejan como iterables para obtener valores.\n",
        "\n"
      ],
      "metadata": {
        "id": "t1hnSYtu8Hcr"
      }
    },
    {
      "cell_type": "code",
      "source": [
        "curso: str= \"EsTA|eS_UNa.pruEBa,de_CaDeNa*$%\"\n",
        "print (curso [5])"
      ],
      "metadata": {
        "colab": {
          "base_uri": "https://localhost:8080/"
        },
        "id": "EByBKpre-4SL",
        "outputId": "3fa687f9-631b-480e-d493-1927bc6382cf"
      },
      "execution_count": null,
      "outputs": [
        {
          "output_type": "stream",
          "name": "stdout",
          "text": [
            "e\n"
          ]
        }
      ]
    },
    {
      "cell_type": "code",
      "source": [
        "print (curso[17])"
      ],
      "metadata": {
        "colab": {
          "base_uri": "https://localhost:8080/"
        },
        "id": "h7DaWWq4_4Rf",
        "outputId": "58198fdb-c4af-494b-8ac6-9dc4ad3fe8c0"
      },
      "execution_count": null,
      "outputs": [
        {
          "output_type": "stream",
          "name": "stdout",
          "text": [
            "a\n"
          ]
        }
      ]
    },
    {
      "cell_type": "code",
      "source": [
        "print (\"negativo\", curso[-8])"
      ],
      "metadata": {
        "colab": {
          "base_uri": "https://localhost:8080/"
        },
        "id": "KM4oAqaZAUq8",
        "outputId": "ff984fb7-1da9-4eec-ca2d-fc9f7f809a29"
      },
      "execution_count": null,
      "outputs": [
        {
          "output_type": "stream",
          "name": "stdout",
          "text": [
            "negativo a\n"
          ]
        }
      ]
    },
    {
      "cell_type": "code",
      "source": [
        "print (\"positivo\", curso[23])"
      ],
      "metadata": {
        "colab": {
          "base_uri": "https://localhost:8080/"
        },
        "id": "3Gf0ciSJBbUC",
        "outputId": "ad07135e-be45-4018-e593-ad1bcd611289"
      },
      "execution_count": null,
      "outputs": [
        {
          "output_type": "stream",
          "name": "stdout",
          "text": [
            "positivo a\n"
          ]
        }
      ]
    },
    {
      "cell_type": "code",
      "source": [
        "print (\"negativo\", curso[-4])\n",
        "print (\"positivo\", curso[15])"
      ],
      "metadata": {
        "colab": {
          "base_uri": "https://localhost:8080/"
        },
        "id": "kRFUJkrSBq_Z",
        "outputId": "1ee44e03-8c38-439a-efe7-2c15116a75b4"
      },
      "execution_count": null,
      "outputs": [
        {
          "output_type": "stream",
          "name": "stdout",
          "text": [
            "negativo a\n",
            "positivo E\n"
          ]
        }
      ]
    },
    {
      "cell_type": "markdown",
      "source": [
        "##RANGOS##\n",
        "\n",
        "Con estas sentencias, se realiza el manejo de los rangos dentro de una cadena\n"
      ],
      "metadata": {
        "id": "0PQXjppKCVha"
      }
    },
    {
      "cell_type": "code",
      "source": [
        "print (curso[0:5])"
      ],
      "metadata": {
        "colab": {
          "base_uri": "https://localhost:8080/"
        },
        "id": "ccJuYo9zCtEJ",
        "outputId": "4a829deb-ebda-4f54-abc8-cd3a600bb3f2"
      },
      "execution_count": null,
      "outputs": [
        {
          "output_type": "stream",
          "name": "stdout",
          "text": [
            "EsTA|\n"
          ]
        }
      ]
    },
    {
      "cell_type": "code",
      "source": [
        "print (curso[6:14])"
      ],
      "metadata": {
        "colab": {
          "base_uri": "https://localhost:8080/"
        },
        "id": "ne4rJeP5DH3i",
        "outputId": "2a3b5177-5814-439d-8000-ea3e23d92b7b"
      },
      "execution_count": null,
      "outputs": [
        {
          "output_type": "stream",
          "name": "stdout",
          "text": [
            "S_UNa.pr\n"
          ]
        }
      ]
    },
    {
      "cell_type": "code",
      "source": [
        "print (curso[16: ])"
      ],
      "metadata": {
        "colab": {
          "base_uri": "https://localhost:8080/"
        },
        "id": "ytwdAscpDf5F",
        "outputId": "ed0b99aa-1c10-4321-fb3b-65972fefe16e"
      },
      "execution_count": null,
      "outputs": [
        {
          "output_type": "stream",
          "name": "stdout",
          "text": [
            "Ba,de_CaDeNa*$%\n"
          ]
        }
      ]
    },
    {
      "cell_type": "code",
      "source": [
        "print (curso[ :-9])"
      ],
      "metadata": {
        "colab": {
          "base_uri": "https://localhost:8080/"
        },
        "id": "LkIgp7JhDoZn",
        "outputId": "509bd2b1-093f-453b-cfb2-b01aa224cbad"
      },
      "execution_count": null,
      "outputs": [
        {
          "output_type": "stream",
          "name": "stdout",
          "text": [
            "EsTA|eS_UNa.pruEBa,de_\n"
          ]
        }
      ]
    },
    {
      "cell_type": "code",
      "source": [
        "print (curso[-12: ])"
      ],
      "metadata": {
        "colab": {
          "base_uri": "https://localhost:8080/"
        },
        "id": "jYe1uAmIDxV4",
        "outputId": "6582d9d5-e04c-4ac7-8568-f7c7e40b7714"
      },
      "execution_count": null,
      "outputs": [
        {
          "output_type": "stream",
          "name": "stdout",
          "text": [
            "de_CaDeNa*$%\n"
          ]
        }
      ]
    },
    {
      "cell_type": "markdown",
      "source": [
        "##SALTEO##\n",
        "\n",
        "Permite la revision de cada índice y realizar los saltos segun el valor en que requiera hacer dichos intervalos\n"
      ],
      "metadata": {
        "id": "63SfdKH3GgKN"
      }
    },
    {
      "cell_type": "code",
      "source": [
        "print (curso[ : : ])"
      ],
      "metadata": {
        "colab": {
          "base_uri": "https://localhost:8080/"
        },
        "id": "713NQ0NqHTVl",
        "outputId": "67a152a6-dbda-40d7-8d0f-dd49dde9f01a"
      },
      "execution_count": null,
      "outputs": [
        {
          "output_type": "stream",
          "name": "stdout",
          "text": [
            "EsTA|eS_UNa.pruEBa,de_CaDeNa*$%\n"
          ]
        }
      ]
    },
    {
      "cell_type": "code",
      "source": [
        "print (curso[ : :2])"
      ],
      "metadata": {
        "colab": {
          "base_uri": "https://localhost:8080/"
        },
        "id": "6-OKoqUQHZs0",
        "outputId": "f9bf27a0-b5ff-4ce7-a71b-0e0c6eeb8bb5"
      },
      "execution_count": null,
      "outputs": [
        {
          "output_type": "stream",
          "name": "stdout",
          "text": [
            "ET|SUapuB,eCDN*%\n"
          ]
        }
      ]
    },
    {
      "cell_type": "code",
      "source": [
        "print (curso[ : :-5])"
      ],
      "metadata": {
        "colab": {
          "base_uri": "https://localhost:8080/"
        },
        "id": "hlOneI9pKRTh",
        "outputId": "9eca0a63-57ec-470f-a881-91a5f453322e"
      },
      "execution_count": null,
      "outputs": [
        {
          "output_type": "stream",
          "name": "stdout",
          "text": [
            "%eeEaeE\n"
          ]
        }
      ]
    },
    {
      "cell_type": "code",
      "source": [
        "print (curso[3:10:2])"
      ],
      "metadata": {
        "colab": {
          "base_uri": "https://localhost:8080/"
        },
        "id": "eoNk5CR3Ng_h",
        "outputId": "9b672e43-ffa4-442e-a9d6-77b26a02658e"
      },
      "execution_count": null,
      "outputs": [
        {
          "output_type": "stream",
          "name": "stdout",
          "text": [
            "Ae_N\n"
          ]
        }
      ]
    },
    {
      "cell_type": "code",
      "source": [
        "print (curso[10:-5:3])"
      ],
      "metadata": {
        "colab": {
          "base_uri": "https://localhost:8080/"
        },
        "id": "g1SFTU8oOa6Q",
        "outputId": "32fb5f0b-e27b-49d7-c1da-53cfdc832243"
      },
      "execution_count": null,
      "outputs": [
        {
          "output_type": "stream",
          "name": "stdout",
          "text": [
            "arBdCe\n"
          ]
        }
      ]
    },
    {
      "cell_type": "markdown",
      "source": [
        "##OPERACIONES ENTRE STRINGS##\n",
        "\n",
        "###LOWER###\n",
        "\n"
      ],
      "metadata": {
        "id": "fTeLQ890Okvh"
      }
    },
    {
      "cell_type": "code",
      "source": [
        "print (curso.lower())"
      ],
      "metadata": {
        "colab": {
          "base_uri": "https://localhost:8080/"
        },
        "id": "3Hs8GbTWOsgz",
        "outputId": "0439613a-06da-44a1-a97a-d5bb91bf2538"
      },
      "execution_count": null,
      "outputs": [
        {
          "output_type": "stream",
          "name": "stdout",
          "text": [
            "esta|es_una.prueba,de_cadena*$%\n"
          ]
        }
      ]
    },
    {
      "cell_type": "code",
      "source": [
        "alterna = curso.lower()\n",
        "print(alterna)"
      ],
      "metadata": {
        "colab": {
          "base_uri": "https://localhost:8080/"
        },
        "id": "foZ5OffmPVPq",
        "outputId": "0a26157e-bed8-4680-a3be-e100c7a2e890"
      },
      "execution_count": null,
      "outputs": [
        {
          "output_type": "stream",
          "name": "stdout",
          "text": [
            "esta|es_una.prueba,de_cadena*$%\n"
          ]
        }
      ]
    },
    {
      "cell_type": "markdown",
      "source": [
        "##STARTSWITH##\n",
        "\n"
      ],
      "metadata": {
        "id": "WMqOKw-mYnSB"
      }
    },
    {
      "cell_type": "code",
      "source": [
        "print (curso.startswith(\"A\"))"
      ],
      "metadata": {
        "colab": {
          "base_uri": "https://localhost:8080/"
        },
        "id": "_NqGx9DKaL2L",
        "outputId": "69f48726-3abb-4726-aa4c-e45b3290a0d6"
      },
      "execution_count": null,
      "outputs": [
        {
          "output_type": "stream",
          "name": "stdout",
          "text": [
            "False\n"
          ]
        }
      ]
    },
    {
      "cell_type": "code",
      "source": [
        "print (curso.startswith(\"E\"))"
      ],
      "metadata": {
        "colab": {
          "base_uri": "https://localhost:8080/"
        },
        "id": "KwPEnDcjaU-a",
        "outputId": "2bdfc525-ee0d-4224-b858-f0692fc8f056"
      },
      "execution_count": null,
      "outputs": [
        {
          "output_type": "stream",
          "name": "stdout",
          "text": [
            "True\n"
          ]
        }
      ]
    },
    {
      "cell_type": "markdown",
      "source": [
        "##CONCATENACION##\n",
        "\n"
      ],
      "metadata": {
        "id": "EOocko1laaB-"
      }
    },
    {
      "cell_type": "code",
      "source": [
        "curso_minuscula: str= curso.lower()\n",
        "print (curso_minuscula.startswith('e'))"
      ],
      "metadata": {
        "colab": {
          "base_uri": "https://localhost:8080/"
        },
        "id": "UZYL9SE_ajXQ",
        "outputId": "3ddf57aa-12d9-4598-e652-e02eaa7f934a"
      },
      "execution_count": null,
      "outputs": [
        {
          "output_type": "stream",
          "name": "stdout",
          "text": [
            "True\n"
          ]
        }
      ]
    },
    {
      "cell_type": "code",
      "source": [
        "print (curso.lower().startswith('e'))"
      ],
      "metadata": {
        "colab": {
          "base_uri": "https://localhost:8080/"
        },
        "id": "vgj3lXk7a8K6",
        "outputId": "82c5096f-1cc1-4ec8-8eda-a08097f0a5a7"
      },
      "execution_count": null,
      "outputs": [
        {
          "output_type": "stream",
          "name": "stdout",
          "text": [
            "True\n"
          ]
        }
      ]
    },
    {
      "cell_type": "markdown",
      "source": [
        "##UPPER##\n",
        "\n"
      ],
      "metadata": {
        "id": "wO5pcv68b9PB"
      }
    },
    {
      "cell_type": "code",
      "source": [
        "print (curso.upper())"
      ],
      "metadata": {
        "colab": {
          "base_uri": "https://localhost:8080/"
        },
        "id": "By0yGen8cBxN",
        "outputId": "40e7020c-f2e5-4c15-c8aa-6e576cf4e22f"
      },
      "execution_count": null,
      "outputs": [
        {
          "output_type": "stream",
          "name": "stdout",
          "text": [
            "ESTA|ES_UNA.PRUEBA,DE_CADENA*$%\n"
          ]
        }
      ]
    },
    {
      "cell_type": "markdown",
      "source": [
        "##CAPITALIZE##\n"
      ],
      "metadata": {
        "id": "TSZikZN1cp8y"
      }
    },
    {
      "cell_type": "code",
      "source": [
        "print (curso.capitalize())"
      ],
      "metadata": {
        "colab": {
          "base_uri": "https://localhost:8080/"
        },
        "id": "S9nXyrkgcwdZ",
        "outputId": "9171e17e-c471-4eef-91b4-5f964b06a36d"
      },
      "execution_count": null,
      "outputs": [
        {
          "output_type": "stream",
          "name": "stdout",
          "text": [
            "Esta|es_una.prueba,de_cadena*$%\n"
          ]
        }
      ]
    },
    {
      "cell_type": "markdown",
      "source": [
        "##TITLE##\n"
      ],
      "metadata": {
        "id": "XG6vf2ckdahP"
      }
    },
    {
      "cell_type": "code",
      "source": [
        "print (curso.title())"
      ],
      "metadata": {
        "colab": {
          "base_uri": "https://localhost:8080/"
        },
        "id": "4IfTWQS-ddYU",
        "outputId": "aa4f6c18-c0c7-4d5c-b646-ca8e63df2d44"
      },
      "execution_count": null,
      "outputs": [
        {
          "output_type": "stream",
          "name": "stdout",
          "text": [
            "Esta|Es_Una.Prueba,De_Cadena*$%\n"
          ]
        }
      ]
    },
    {
      "cell_type": "code",
      "source": [
        "print (\"Esta es una prueba de cadena\". title())"
      ],
      "metadata": {
        "colab": {
          "base_uri": "https://localhost:8080/"
        },
        "id": "r025h-rTd7sx",
        "outputId": "481c0886-7722-4612-9a00-4644194b51cd"
      },
      "execution_count": null,
      "outputs": [
        {
          "output_type": "stream",
          "name": "stdout",
          "text": [
            "Esta Es Una Prueba De Cadena\n"
          ]
        }
      ]
    },
    {
      "cell_type": "markdown",
      "source": [
        "##CENTER##"
      ],
      "metadata": {
        "id": "yx_R6v6YeMLe"
      }
    },
    {
      "cell_type": "code",
      "source": [
        "print (curso.lower().center(50, \"*\"))"
      ],
      "metadata": {
        "colab": {
          "base_uri": "https://localhost:8080/"
        },
        "id": "F5Ra_fxOdjXr",
        "outputId": "37b02d44-1ec4-4bfe-b9b9-f987e6b39ead"
      },
      "execution_count": null,
      "outputs": [
        {
          "output_type": "stream",
          "name": "stdout",
          "text": [
            "*********esta|es_una.prueba,de_cadena*$%**********\n"
          ]
        }
      ]
    },
    {
      "cell_type": "code",
      "source": [
        "print (curso.lower().center(50, \"%\"))"
      ],
      "metadata": {
        "colab": {
          "base_uri": "https://localhost:8080/"
        },
        "id": "xMTRMqGYdwLa",
        "outputId": "9780ebfe-5100-4072-bd21-5fd1d2dacbbc"
      },
      "execution_count": null,
      "outputs": [
        {
          "output_type": "stream",
          "name": "stdout",
          "text": [
            "%%%%%%%%%esta|es_una.prueba,de_cadena*$%%%%%%%%%%%\n"
          ]
        }
      ]
    },
    {
      "cell_type": "markdown",
      "source": [
        "#PRUEBAS AGOSTO 10 DE 2023#\n",
        "\n",
        "##MAS OPERACIONES CON CADENAS (STRINGS), PERO SON VALIDAS PARA LOS TIPOS LISTAS Y TUPLAS##\n",
        "\n",
        "\n",
        "###Len###\n",
        "\n",
        "Permite saber la longitud de una cadena iterable\n",
        "\n"
      ],
      "metadata": {
        "id": "wVDUus9pmEYL"
      }
    },
    {
      "cell_type": "code",
      "source": [
        "cadena: str= \"EsTe_CuRSo_es|Necesario_para_SeGUir&\"\n",
        "print (curso)"
      ],
      "metadata": {
        "colab": {
          "base_uri": "https://localhost:8080/"
        },
        "id": "VtG1xlFOnF50",
        "outputId": "ab593ec6-28d5-4be4-a52c-b68252815d1b"
      },
      "execution_count": 5,
      "outputs": [
        {
          "output_type": "stream",
          "name": "stdout",
          "text": [
            "EsTe_CuRSo_es|Necesario_para_SeGUir&\n"
          ]
        }
      ]
    },
    {
      "cell_type": "code",
      "source": [
        "len(\" \")"
      ],
      "metadata": {
        "colab": {
          "base_uri": "https://localhost:8080/"
        },
        "id": "m3AZ_LXGoSXl",
        "outputId": "a041e078-920e-48ca-9221-bceb8edf1f39"
      },
      "execution_count": 2,
      "outputs": [
        {
          "output_type": "execute_result",
          "data": {
            "text/plain": [
              "1"
            ]
          },
          "metadata": {},
          "execution_count": 2
        }
      ]
    },
    {
      "cell_type": "code",
      "source": [
        "len (cadena)"
      ],
      "metadata": {
        "colab": {
          "base_uri": "https://localhost:8080/"
        },
        "id": "Vl5Z--3_pM3Z",
        "outputId": "e60b2b6b-9d5a-4c10-d25f-623c0bb72c4a"
      },
      "execution_count": 6,
      "outputs": [
        {
          "output_type": "execute_result",
          "data": {
            "text/plain": [
              "36"
            ]
          },
          "metadata": {},
          "execution_count": 6
        }
      ]
    },
    {
      "cell_type": "code",
      "source": [
        "print (len(cadena))"
      ],
      "metadata": {
        "colab": {
          "base_uri": "https://localhost:8080/"
        },
        "id": "yL3pTaSgpSw0",
        "outputId": "931da3c3-810c-4e21-fbb4-0ec5bc772347"
      },
      "execution_count": 7,
      "outputs": [
        {
          "output_type": "stream",
          "name": "stdout",
          "text": [
            "36\n"
          ]
        }
      ]
    },
    {
      "cell_type": "markdown",
      "source": [
        "###Rjust###\n",
        "\n",
        "Permite realizar alineaciones hacia la derecha"
      ],
      "metadata": {
        "id": "z0OR9tz0qFUa"
      }
    },
    {
      "cell_type": "code",
      "source": [
        "print (cadena.rjust(60, \"&\"))"
      ],
      "metadata": {
        "colab": {
          "base_uri": "https://localhost:8080/"
        },
        "id": "d4Kwljfbqjwj",
        "outputId": "78e11daa-fd83-4b51-9db7-d8e0ea3ad3e3"
      },
      "execution_count": 8,
      "outputs": [
        {
          "output_type": "stream",
          "name": "stdout",
          "text": [
            "&&&&&&&&&&&&&&&&&&&&&&&&EsTe_CuRSo_es|Necesario_para_SeGUir&\n"
          ]
        }
      ]
    },
    {
      "cell_type": "markdown",
      "source": [
        "###Ljust###\n",
        "\n",
        "Con esta sentencia, se realiza la alineación hacia la izquierda"
      ],
      "metadata": {
        "id": "1voLHqTCrxSZ"
      }
    },
    {
      "cell_type": "code",
      "source": [
        "print (cadena.ljust(90,\"+\"))"
      ],
      "metadata": {
        "colab": {
          "base_uri": "https://localhost:8080/"
        },
        "id": "_jcKit_Gr35L",
        "outputId": "a3753d6c-d698-4a93-ebcd-03fee093509c"
      },
      "execution_count": 10,
      "outputs": [
        {
          "output_type": "stream",
          "name": "stdout",
          "text": [
            "EsTe_CuRSo_es|Necesario_para_SeGUir&++++++++++++++++++++++++++++++++++++++++++++++++++++++\n"
          ]
        }
      ]
    },
    {
      "cell_type": "markdown",
      "source": [
        "###Zfill###\n",
        "\n",
        "Permite rellenar segun la cantidad de caracteres hacia la derecha con ceros"
      ],
      "metadata": {
        "id": "mJsblsgZsiRp"
      }
    },
    {
      "cell_type": "code",
      "source": [
        "print (cadena.zfill(70))"
      ],
      "metadata": {
        "colab": {
          "base_uri": "https://localhost:8080/"
        },
        "id": "z2vhHKjls3Zz",
        "outputId": "46c17117-0bd8-4bba-e6c2-52486617ee67"
      },
      "execution_count": 11,
      "outputs": [
        {
          "output_type": "stream",
          "name": "stdout",
          "text": [
            "0000000000000000000000000000000000EsTe_CuRSo_es|Necesario_para_SeGUir&\n"
          ]
        }
      ]
    },
    {
      "cell_type": "markdown",
      "source": [
        "###Count###\n",
        "\n",
        "Permite contar cuantas veces aparece un caracter a evaluarse"
      ],
      "metadata": {
        "id": "egIHIKzXuVQ4"
      }
    },
    {
      "cell_type": "code",
      "source": [
        "print (cadena.count(\"e\"))"
      ],
      "metadata": {
        "colab": {
          "base_uri": "https://localhost:8080/"
        },
        "id": "J6sfxLjKujUt",
        "outputId": "ebeb2efd-0c54-4347-d2fe-1eadee72b790"
      },
      "execution_count": 12,
      "outputs": [
        {
          "output_type": "stream",
          "name": "stdout",
          "text": [
            "5\n"
          ]
        }
      ]
    },
    {
      "cell_type": "code",
      "source": [
        "print (cadena.count(\"_\"))"
      ],
      "metadata": {
        "colab": {
          "base_uri": "https://localhost:8080/"
        },
        "id": "-3dOvTd-uxRl",
        "outputId": "1a2b5e74-d0ec-407a-a676-01476b92dfde"
      },
      "execution_count": 13,
      "outputs": [
        {
          "output_type": "stream",
          "name": "stdout",
          "text": [
            "4\n"
          ]
        }
      ]
    },
    {
      "cell_type": "markdown",
      "source": [
        "###Find###\n",
        "\n",
        "Realiza la busqueda de la posicion de la primera ocurrencia, (posición del primer caracter), cuando no encuentra un elemento dentro de la cadena, el resultado de la ejecución es un -1."
      ],
      "metadata": {
        "id": "HLH83ouZu8_y"
      }
    },
    {
      "cell_type": "code",
      "source": [
        "print (\"Texto que sale: \", cadena.find(\"a\"))"
      ],
      "metadata": {
        "colab": {
          "base_uri": "https://localhost:8080/"
        },
        "id": "xdKbbv9bvMD8",
        "outputId": "7b7b7d1b-b60c-4e44-8be0-62ea4aab8bc1"
      },
      "execution_count": 14,
      "outputs": [
        {
          "output_type": "stream",
          "name": "stdout",
          "text": [
            "Texto que sale:  19\n"
          ]
        }
      ]
    },
    {
      "cell_type": "code",
      "source": [],
      "metadata": {
        "id": "ZKr87anm3hz7"
      },
      "execution_count": null,
      "outputs": []
    },
    {
      "cell_type": "code",
      "source": [
        "print (\"Texto que sale: \", cadena[cadena.lower().find(\"a\"): ])"
      ],
      "metadata": {
        "colab": {
          "base_uri": "https://localhost:8080/"
        },
        "id": "-AukQ646vxUX",
        "outputId": "a933e5de-4f64-4922-c2d4-6b9450b902c9"
      },
      "execution_count": 15,
      "outputs": [
        {
          "output_type": "stream",
          "name": "stdout",
          "text": [
            "Texto que sale:  ario_para_SeGUir&\n"
          ]
        }
      ]
    },
    {
      "cell_type": "code",
      "source": [
        "print (\"Texto que sale: \", cadena.find(\"w\"))"
      ],
      "metadata": {
        "colab": {
          "base_uri": "https://localhost:8080/"
        },
        "id": "MGB7H9mm3jdX",
        "outputId": "ffb5562e-4c01-4803-def9-4e134775a2f2"
      },
      "execution_count": 24,
      "outputs": [
        {
          "output_type": "stream",
          "name": "stdout",
          "text": [
            "Texto que sale:  -1\n"
          ]
        }
      ]
    },
    {
      "cell_type": "markdown",
      "source": [
        "###Lstrip###\n",
        "\n",
        "Permite quitar los espacios por el lado izquierdo\n"
      ],
      "metadata": {
        "id": "qB1woGPzwdTm"
      }
    },
    {
      "cell_type": "code",
      "source": [
        "print (cadena, (\"-->\", len(cadena)))"
      ],
      "metadata": {
        "colab": {
          "base_uri": "https://localhost:8080/"
        },
        "id": "V1Ww9g6Ywn3F",
        "outputId": "c30f3fbb-be5b-476e-9b70-7c2557669fe6"
      },
      "execution_count": 17,
      "outputs": [
        {
          "output_type": "stream",
          "name": "stdout",
          "text": [
            "EsTe_CuRSo_es|Necesario_para_SeGUir& ('-->', 36)\n"
          ]
        }
      ]
    },
    {
      "cell_type": "code",
      "source": [
        "print (cadena.lstrip(), \"-->\", len(cadena))"
      ],
      "metadata": {
        "colab": {
          "base_uri": "https://localhost:8080/"
        },
        "id": "xM1ZhHcyy1gk",
        "outputId": "32bdae19-824b-416e-8c1a-d5f4845e45a3"
      },
      "execution_count": 18,
      "outputs": [
        {
          "output_type": "stream",
          "name": "stdout",
          "text": [
            "EsTe_CuRSo_es|Necesario_para_SeGUir& --> 36\n"
          ]
        }
      ]
    },
    {
      "cell_type": "markdown",
      "source": [
        "###Rstrip###\n",
        "\n",
        "Quita los espacios hacia el lado derecho\n",
        "\n"
      ],
      "metadata": {
        "id": "IIv0QlpjzMDS"
      }
    },
    {
      "cell_type": "code",
      "source": [
        "print (cadena.rstrip(), \"-->\", len(cadena))"
      ],
      "metadata": {
        "colab": {
          "base_uri": "https://localhost:8080/"
        },
        "id": "ML9iuSBmzTET",
        "outputId": "71fabcf5-4a1d-4785-e436-17fcaff19d66"
      },
      "execution_count": 19,
      "outputs": [
        {
          "output_type": "stream",
          "name": "stdout",
          "text": [
            "EsTe_CuRSo_es|Necesario_para_SeGUir& --> 36\n"
          ]
        }
      ]
    },
    {
      "cell_type": "markdown",
      "source": [
        "###Strip###\n",
        "\n",
        "permite quitar espacios por ambas partes\n",
        "\n"
      ],
      "metadata": {
        "id": "b9k96SgczwFn"
      }
    },
    {
      "cell_type": "code",
      "source": [
        "print (cadena.strip(), \"-->\", len(cadena))"
      ],
      "metadata": {
        "colab": {
          "base_uri": "https://localhost:8080/"
        },
        "id": "6-IQzh5fz7Rd",
        "outputId": "a1c0e0d4-f71a-43e6-915e-08b790f83035"
      },
      "execution_count": 20,
      "outputs": [
        {
          "output_type": "stream",
          "name": "stdout",
          "text": [
            "EsTe_CuRSo_es|Necesario_para_SeGUir& --> 36\n"
          ]
        }
      ]
    },
    {
      "cell_type": "markdown",
      "source": [
        "###Replace###\n",
        "\n",
        "Con esta sentencia, se realiza el remplazo de un caracter\n",
        "\n"
      ],
      "metadata": {
        "id": "Hky4AGRD0VsN"
      }
    },
    {
      "cell_type": "code",
      "source": [
        "print (cadena)\n",
        "print (cadena.replace (\"a\", \"#\"))"
      ],
      "metadata": {
        "colab": {
          "base_uri": "https://localhost:8080/"
        },
        "id": "zvZwbBui0b7V",
        "outputId": "39b3ac7a-f753-4b0c-bb6f-f09f73f3b282"
      },
      "execution_count": 21,
      "outputs": [
        {
          "output_type": "stream",
          "name": "stdout",
          "text": [
            "EsTe_CuRSo_es|Necesario_para_SeGUir&\n",
            "EsTe_CuRSo_es|Neces#rio_p#r#_SeGUir&\n"
          ]
        }
      ]
    },
    {
      "cell_type": "code",
      "source": [
        "print (\"Texto que sale: \", curso.lower().replace(\"e\", \"&\"))"
      ],
      "metadata": {
        "colab": {
          "base_uri": "https://localhost:8080/"
        },
        "id": "bnGV3Ja-1knX",
        "outputId": "be17f600-8a1c-47db-f02f-16cfe58ea5c4"
      },
      "execution_count": 22,
      "outputs": [
        {
          "output_type": "stream",
          "name": "stdout",
          "text": [
            "Texto que sale:  &st&_curso_&s|n&c&sario_para_s&guir&\n"
          ]
        }
      ]
    },
    {
      "cell_type": "code",
      "source": [
        "print (cadena.replace (\"_\", \" \"))"
      ],
      "metadata": {
        "colab": {
          "base_uri": "https://localhost:8080/"
        },
        "id": "H_aqQQLN2G4g",
        "outputId": "8f141273-42b7-446e-ad8a-bca36c2e39a1"
      },
      "execution_count": 23,
      "outputs": [
        {
          "output_type": "stream",
          "name": "stdout",
          "text": [
            "EsTe CuRSo es|Necesario para SeGUir&\n"
          ]
        }
      ]
    },
    {
      "cell_type": "markdown",
      "source": [
        "###Index###\n",
        "\n",
        "Permite realizar búsqueda de elementos en el índice, lo que diferencia de find, es que si no encuentra un elemento del indice, genera error.\n",
        "\n"
      ],
      "metadata": {
        "id": "Qs3hALxG3IWZ"
      }
    },
    {
      "cell_type": "code",
      "source": [
        "print (\"Texto que sale: \", cadena.index(\"s\"))"
      ],
      "metadata": {
        "colab": {
          "base_uri": "https://localhost:8080/"
        },
        "id": "U0xgr0Cm3ugP",
        "outputId": "fca36349-4bba-4571-e3a5-ad6a4f3da951"
      },
      "execution_count": 25,
      "outputs": [
        {
          "output_type": "stream",
          "name": "stdout",
          "text": [
            "Texto que sale:  1\n"
          ]
        }
      ]
    },
    {
      "cell_type": "code",
      "source": [
        "print (\"Texto que sale: \", cadena.index(\"f\"))"
      ],
      "metadata": {
        "colab": {
          "base_uri": "https://localhost:8080/",
          "height": 182
        },
        "id": "h7L4DMaB34gx",
        "outputId": "8c0667ed-a358-4d8c-a1ea-5cca2a302ca7"
      },
      "execution_count": 26,
      "outputs": [
        {
          "output_type": "error",
          "ename": "ValueError",
          "evalue": "ignored",
          "traceback": [
            "\u001b[0;31m---------------------------------------------------------------------------\u001b[0m",
            "\u001b[0;31mValueError\u001b[0m                                Traceback (most recent call last)",
            "\u001b[0;32m<ipython-input-26-79a9f35fab47>\u001b[0m in \u001b[0;36m<cell line: 1>\u001b[0;34m()\u001b[0m\n\u001b[0;32m----> 1\u001b[0;31m \u001b[0mprint\u001b[0m \u001b[0;34m(\u001b[0m\u001b[0;34m\"Texto que sale: \"\u001b[0m\u001b[0;34m,\u001b[0m \u001b[0mcadena\u001b[0m\u001b[0;34m.\u001b[0m\u001b[0mindex\u001b[0m\u001b[0;34m(\u001b[0m\u001b[0;34m\"f\"\u001b[0m\u001b[0;34m)\u001b[0m\u001b[0;34m)\u001b[0m\u001b[0;34m\u001b[0m\u001b[0;34m\u001b[0m\u001b[0m\n\u001b[0m",
            "\u001b[0;31mValueError\u001b[0m: substring not found"
          ]
        }
      ]
    },
    {
      "cell_type": "markdown",
      "source": [
        "###Split###\n",
        "\n",
        "Permite partir una cadena a partir de un delimitador"
      ],
      "metadata": {
        "id": "sqPpmlcm4Hnj"
      }
    },
    {
      "cell_type": "code",
      "source": [
        "print (\"Tipo de dato: \", type(cadena), len(cadena), \"valor: \", cadena)\n",
        "datos_partidos = cadena.split(\"+\")\n",
        "print (\"Tipo de dato: \", type(datos_partidos), len(datos_partidos), datos_partidos, \"valor: \", cadena)"
      ],
      "metadata": {
        "colab": {
          "base_uri": "https://localhost:8080/"
        },
        "id": "kQWkVCn74OTb",
        "outputId": "751875d6-2eb0-4e5b-f85d-62fefa9b57a1"
      },
      "execution_count": 30,
      "outputs": [
        {
          "output_type": "stream",
          "name": "stdout",
          "text": [
            "Tipo de dato:  <class 'str'> 36 valor:  EsTe_CuRSo_es|Necesario_para_SeGUir&\n",
            "Tipo de dato:  <class 'list'> 1 ['EsTe_CuRSo_es|Necesario_para_SeGUir&'] valor:  EsTe_CuRSo_es|Necesario_para_SeGUir&\n"
          ]
        }
      ]
    },
    {
      "cell_type": "code",
      "source": [
        "print (\"hola a todos\".split(\" \"))"
      ],
      "metadata": {
        "colab": {
          "base_uri": "https://localhost:8080/"
        },
        "id": "lSz4rLtv7K-K",
        "outputId": "425d2362-2bc3-4b5c-cc8e-5c60498d8542"
      },
      "execution_count": 28,
      "outputs": [
        {
          "output_type": "stream",
          "name": "stdout",
          "text": [
            "['hola', 'a', 'todos']\n"
          ]
        }
      ]
    },
    {
      "cell_type": "code",
      "source": [
        "print (datos_partidos)\n",
        "print (datos_partidos [ : :-1])"
      ],
      "metadata": {
        "colab": {
          "base_uri": "https://localhost:8080/"
        },
        "id": "P08Pzs-97d-e",
        "outputId": "eab8116d-8e3d-473e-a477-83b5df725332"
      },
      "execution_count": 31,
      "outputs": [
        {
          "output_type": "stream",
          "name": "stdout",
          "text": [
            "['EsTe_CuRSo_es|Necesario_para_SeGUir&']\n",
            "['EsTe_CuRSo_es|Necesario_para_SeGUir&']\n"
          ]
        }
      ]
    },
    {
      "cell_type": "markdown",
      "source": [
        "###Is###\n",
        "\n",
        "hace uso de la validación lógica booleana"
      ],
      "metadata": {
        "id": "VzLVMnIv8HoU"
      }
    },
    {
      "cell_type": "code",
      "source": [
        "print (cadena.islower)\n",
        "print (cadena.isnumeric)\n",
        "numero: int=4\n",
        "print (numero)\n",
        "print (\"5\".isnumeric)"
      ],
      "metadata": {
        "colab": {
          "base_uri": "https://localhost:8080/"
        },
        "id": "BQf4Gsmv8Oiz",
        "outputId": "0929835b-168b-4ec0-e6d3-a00473895ab9"
      },
      "execution_count": 40,
      "outputs": [
        {
          "output_type": "stream",
          "name": "stdout",
          "text": [
            "<built-in method islower of str object at 0x794c6f8f4510>\n",
            "<built-in method isnumeric of str object at 0x794c6f8f4510>\n",
            "4\n",
            "<built-in method isnumeric of str object at 0x794cb173cef0>\n"
          ]
        }
      ]
    },
    {
      "cell_type": "markdown",
      "source": [
        "##CONCATENACION SIMPLE##\n",
        "\n",
        "Unir el valor de 2 o mas variables en una sola\n"
      ],
      "metadata": {
        "id": "WJJivl3W9UO0"
      }
    },
    {
      "cell_type": "code",
      "source": [
        "nombre: str=\"fercho\"\n",
        "apellido: str=\"prieto\"\n",
        "edad: int= 21\n",
        "\n",
        "valor_esperado: str = \"su nombre es: \"+ nombre\n",
        "print (valor_esperado)"
      ],
      "metadata": {
        "colab": {
          "base_uri": "https://localhost:8080/"
        },
        "id": "sd_kbjko9c6O",
        "outputId": "03e07376-19e3-4881-b2bc-b4726af6fe62"
      },
      "execution_count": 53,
      "outputs": [
        {
          "output_type": "stream",
          "name": "stdout",
          "text": [
            "su nombre es: fercho\n"
          ]
        }
      ]
    },
    {
      "cell_type": "code",
      "source": [
        "valor_esperado: str =\"su nombre es: \"+ nombre, \"su apellido es: \"+ apellido, \"y tiene:  \"+str(edad)\n",
        "print (valor_esperado)"
      ],
      "metadata": {
        "colab": {
          "base_uri": "https://localhost:8080/"
        },
        "id": "sr7vTDgb-K6e",
        "outputId": "5b10f520-ea2e-4fe3-8627-3b58679e9c93"
      },
      "execution_count": 54,
      "outputs": [
        {
          "output_type": "stream",
          "name": "stdout",
          "text": [
            "('su nombre es: fercho', 'su apellido es: prieto', 'y tiene:  21')\n"
          ]
        }
      ]
    }
  ]
}